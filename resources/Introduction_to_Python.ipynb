{
  "cells": [
    {
      "attachments": {},
      "cell_type": "markdown",
      "metadata": {
        "id": "Cmr3QVeiA1ML"
      },
      "source": [
        "#CSE484: Introduction to Python (Collected from CSE422)\n",
        "\n",
        "---\n",
        "\n"
      ]
    },
    {
      "cell_type": "markdown",
      "metadata": {
        "id": "SHzkmmVbSHNG"
      },
      "source": [
        " # Why Python?\n",
        " \n",
        " * It supports a lot of today’s technology including vast libraries for twitter, data mining, scientific calculations, designing, back-end server for websites, engineering simulations, artificial learning, augmented reality and what not. Also, it supports all kind of App development. Web crawlers used for data mining and all are designed and developed in Python.\n",
        "\n",
        " * It has a large community; solutions to any problems you face can be easily found online.\n",
        "\n",
        " * It is Open Source\n",
        "\n",
        " * It is easily understandable; very close to human language."
      ]
    },
    {
      "cell_type": "markdown",
      "metadata": {
        "id": "44At6uYkSXZ1"
      },
      "source": [
        "Difference between Interpreter and Compiler\n",
        "https://techdifferences.com/difference-between-compiler-and-interpreter.html"
      ]
    },
    {
      "cell_type": "markdown",
      "metadata": {
        "id": "xqwrX9Tx8Eit"
      },
      "source": [
        "# What is Google Colab?\n",
        "\n",
        "* It's a Jupyter notebook environment that requires no setup to use and runs entirely in the cloud.\n",
        "* 12 GB RAM; can be extended to 25 GB for free"
      ]
    },
    {
      "cell_type": "markdown",
      "metadata": {
        "id": "a3F5DliNApwc"
      },
      "source": [
        "# Data types"
      ]
    },
    {
      "cell_type": "code",
      "execution_count": null,
      "metadata": {
        "colab": {
          "base_uri": "https://localhost:8080/",
          "height": 101
        },
        "id": "NngNLZVM9zIz",
        "outputId": "dda04696-04f2-43ef-f2c7-fdcd249e82de",
        "vscode": {
          "languageId": "python"
        }
      },
      "outputs": [
        {
          "name": "stdout",
          "output_type": "stream",
          "text": [
            "1\n",
            "1.1\n",
            "(1+2j)\n",
            "a\n",
            "True\n"
          ]
        }
      ],
      "source": [
        "a = 1 # integer\n",
        "print(a)\n",
        "b = 1.1 # float\n",
        "print(b)\n",
        "c = 1 + 2j # complex number (a + bi) \n",
        "print(c) \n",
        "d = 'a' # string\n",
        "print(d)\n",
        "e = True # boolean (True / False)\n",
        "print(e)"
      ]
    },
    {
      "cell_type": "code",
      "execution_count": null,
      "metadata": {
        "colab": {
          "base_uri": "https://localhost:8080/",
          "height": 84
        },
        "id": "8aSXOfDVpA8H",
        "outputId": "4985d113-bc2e-497e-97f2-72feeb5fdfda",
        "vscode": {
          "languageId": "python"
        }
      },
      "outputs": [
        {
          "name": "stdout",
          "output_type": "stream",
          "text": [
            "<class 'int'>\n",
            "<class 'float'>\n",
            "<class 'complex'>\n",
            "<class 'str'>\n"
          ]
        }
      ],
      "source": [
        "print(type(a))\n",
        "print(type(b))\n",
        "print(type(c))\n",
        "print(type(d))"
      ]
    },
    {
      "cell_type": "code",
      "execution_count": null,
      "metadata": {
        "colab": {
          "base_uri": "https://localhost:8080/",
          "height": 67
        },
        "id": "7_bRue6oSX3d",
        "outputId": "2b5313fb-e833-493f-b77d-93ee80bb1bd3",
        "vscode": {
          "languageId": "python"
        }
      },
      "outputs": [
        {
          "name": "stdout",
          "output_type": "stream",
          "text": [
            "15\n",
            "125\n",
            "1.6666666666666667\n"
          ]
        }
      ],
      "source": [
        "a = 5 * 3\n",
        "print(a)\n",
        "b = 5 ** 3\n",
        "print(b)\n",
        "c = 5 / 3\n",
        "print(c)"
      ]
    },
    {
      "cell_type": "markdown",
      "metadata": {
        "id": "LZCZotzbgjF1"
      },
      "source": [
        "# Input & Type Conversion"
      ]
    },
    {
      "cell_type": "code",
      "execution_count": null,
      "metadata": {
        "colab": {
          "base_uri": "https://localhost:8080/",
          "height": 67
        },
        "id": "nxn7Hu3qgo_N",
        "outputId": "0482e246-7542-43bc-9a8a-bd1cd3772d13",
        "vscode": {
          "languageId": "python"
        }
      },
      "outputs": [
        {
          "name": "stdout",
          "output_type": "stream",
          "text": [
            "Enter a number : 6\n",
            "6\n",
            "5\n"
          ]
        }
      ],
      "source": [
        "x = input(\"Enter a number : \")    #input is taken as a string\n",
        "print(x)\n",
        "\n",
        "x = 5.0\n",
        "print(int(x))"
      ]
    },
    {
      "cell_type": "code",
      "execution_count": null,
      "metadata": {
        "colab": {
          "base_uri": "https://localhost:8080/",
          "height": 50
        },
        "id": "27fnJeKLAV7l",
        "outputId": "1d5a2b91-3dc9-4488-d297-b68d8224f7e5",
        "vscode": {
          "languageId": "python"
        }
      },
      "outputs": [
        {
          "name": "stdout",
          "output_type": "stream",
          "text": [
            "Hello, John!\n",
            "John is 23 years old.\n"
          ]
        }
      ],
      "source": [
        "name = \"John\"\n",
        "print(\"Hello, %s!\" % name)\n",
        "age = 23\n",
        "print(\"%s is %d years old.\" % (name, age))\n"
      ]
    },
    {
      "cell_type": "markdown",
      "metadata": {
        "id": "_iYa4Q4jBKfJ"
      },
      "source": [
        "# Strings"
      ]
    },
    {
      "cell_type": "code",
      "execution_count": null,
      "metadata": {
        "colab": {
          "base_uri": "https://localhost:8080/",
          "height": 84
        },
        "id": "r1YXCA0FAPw3",
        "outputId": "0b15b313-3f28-4e2d-c830-33645f32d7da",
        "vscode": {
          "languageId": "python"
        }
      },
      "outputs": [
        {
          "name": "stdout",
          "output_type": "stream",
          "text": [
            "6\n",
            "P\n",
            "n\n"
          ]
        },
        {
          "data": {
            "text/plain": [
              "'Pyt'"
            ]
          },
          "execution_count": 120,
          "metadata": {
            "tags": []
          },
          "output_type": "execute_result"
        }
      ],
      "source": [
        "x = 'Python'\n",
        "print(len(x))\n",
        "print(x[0])\n",
        "print(x[-1])\n",
        "x[0:3]"
      ]
    },
    {
      "cell_type": "markdown",
      "metadata": {
        "id": "R2Wg9QofrQJ4"
      },
      "source": [
        "Note on find() function:\n",
        "\n",
        "The find() method finds the first occurrence of the specified value.\n",
        "\n",
        "The find() method returns -1 if the value is not found.\n",
        "\n",
        "string.find(value, start, end)\n",
        "\n",
        "---\n",
        "Note on strip() function\n",
        "\n",
        "The strip() method removes any leading and trailing characters (space is the default leading/trailing character to remove)"
      ]
    },
    {
      "cell_type": "code",
      "execution_count": null,
      "metadata": {
        "colab": {
          "base_uri": "https://localhost:8080/",
          "height": 134
        },
        "id": "1C3laXI3AZc8",
        "outputId": "8b211e69-87da-45c5-db77-47052b351a1e",
        "vscode": {
          "languageId": "python"
        }
      },
      "outputs": [
        {
          "name": "stdout",
          "output_type": "stream",
          "text": [
            "PYTHON\n",
            "python\n",
            "Python\n",
            "Pytho\n",
            "0\n",
            "Pythbn\n"
          ]
        },
        {
          "data": {
            "text/plain": [
              "False"
            ]
          },
          "execution_count": 121,
          "metadata": {
            "tags": []
          },
          "output_type": "execute_result"
        }
      ],
      "source": [
        "# String methods\n",
        "print(x.upper())\n",
        "print(x.lower())\n",
        "print(x.title())   #first character in each word to Uppercase and remaining characters to Lowercase in string and returns new string\n",
        "print(x.strip('n'))\n",
        "print(x.find('P'))\n",
        "print(x.replace('o', 'b'))\n",
        "'a' in x"
      ]
    },
    {
      "cell_type": "markdown",
      "metadata": {
        "id": "hgXsz6H-YoLf"
      },
      "source": [
        "# If-else Conditions"
      ]
    },
    {
      "cell_type": "code",
      "execution_count": null,
      "metadata": {
        "colab": {
          "base_uri": "https://localhost:8080/",
          "height": 34
        },
        "id": "fV1Ep58dZ15Q",
        "outputId": "9482d82b-a19c-44c4-aa3c-5720897a834f",
        "vscode": {
          "languageId": "python"
        }
      },
      "outputs": [
        {
          "name": "stdout",
          "output_type": "stream",
          "text": [
            "3\n"
          ]
        }
      ],
      "source": [
        "x = 3\n",
        "if x == 1:\n",
        "  print(1)\n",
        "elif x == 2:\n",
        "  print(2)\n",
        "else:\n",
        "  print(3)"
      ]
    },
    {
      "cell_type": "code",
      "execution_count": null,
      "metadata": {
        "id": "InzOiocagzEp",
        "vscode": {
          "languageId": "python"
        }
      },
      "outputs": [],
      "source": []
    },
    {
      "cell_type": "code",
      "execution_count": null,
      "metadata": {
        "id": "0M7xmQZWg7pn",
        "vscode": {
          "languageId": "python"
        }
      },
      "outputs": [],
      "source": []
    },
    {
      "cell_type": "markdown",
      "metadata": {
        "id": "u0nw-qwHbcKD"
      },
      "source": [
        "# Loops"
      ]
    },
    {
      "cell_type": "markdown",
      "metadata": {
        "id": "9hNUGw7otLrO"
      },
      "source": [
        "Range function: returns a range object, which is nothing but a sequence of integers."
      ]
    },
    {
      "cell_type": "code",
      "execution_count": null,
      "metadata": {
        "colab": {
          "base_uri": "https://localhost:8080/",
          "height": 168
        },
        "id": "yYmeFSDKbFU0",
        "outputId": "7121a46e-7b7c-4dde-abfe-a5c375ead522",
        "vscode": {
          "languageId": "python"
        }
      },
      "outputs": [
        {
          "name": "stdout",
          "output_type": "stream",
          "text": [
            "1\n",
            "2\n",
            "3\n",
            "4\n",
            "5\n",
            "6\n",
            "7\n",
            "8\n",
            "9\n"
          ]
        }
      ],
      "source": [
        "for n in range(1, 10):\n",
        "  print(n)"
      ]
    },
    {
      "cell_type": "code",
      "execution_count": null,
      "metadata": {
        "colab": {
          "base_uri": "https://localhost:8080/",
          "height": 168
        },
        "id": "tE53w429biUA",
        "outputId": "801e4abd-fdec-4721-d181-9911ee412104",
        "vscode": {
          "languageId": "python"
        }
      },
      "outputs": [
        {
          "name": "stdout",
          "output_type": "stream",
          "text": [
            "1\n",
            "2\n",
            "3\n",
            "4\n",
            "5\n",
            "6\n",
            "7\n",
            "8\n",
            "9\n"
          ]
        }
      ],
      "source": [
        "n = 1\n",
        "while (n < 10):\n",
        "  print(n)\n",
        "  n += 1"
      ]
    },
    {
      "cell_type": "markdown",
      "metadata": {
        "id": "BZs2J4RQW0Ap"
      },
      "source": [
        "# Functions"
      ]
    },
    {
      "cell_type": "code",
      "execution_count": null,
      "metadata": {
        "colab": {
          "base_uri": "https://localhost:8080/",
          "height": 171
        },
        "id": "Wt3URY9hWywJ",
        "outputId": "727e62b4-3ccc-48ca-ac42-61ac698f1538",
        "vscode": {
          "languageId": "python"
        }
      },
      "outputs": [
        {
          "name": "stdout",
          "output_type": "stream",
          "text": [
            "1\n",
            "2\n",
            "3\n",
            "4\n",
            "5\n",
            "6\n",
            "7\n",
            "8\n",
            "9\n"
          ]
        }
      ],
      "source": [
        "def increment(number, by):\n",
        "  return number + by\n",
        "\n",
        "n = 1\n",
        "while (n < 10):\n",
        "  print(n)\n",
        "  n = increment(n, 1)"
      ]
    },
    {
      "cell_type": "markdown",
      "metadata": {
        "id": "-se1IyTe2Ddb"
      },
      "source": [
        "#Lists:\n",
        "\n",
        "\n",
        "*   ordered\n",
        "*   mutable\n",
        "*   can hold a mixture of data types\n",
        "*   no need to declare size beforehand\n",
        "\n",
        "\n",
        " "
      ]
    },
    {
      "cell_type": "markdown",
      "metadata": {
        "id": "OmQlMILbAyYJ"
      },
      "source": [
        "Creating lists"
      ]
    },
    {
      "cell_type": "code",
      "execution_count": null,
      "metadata": {
        "colab": {
          "base_uri": "https://localhost:8080/",
          "height": 34
        },
        "id": "5tFjzU6G87Tb",
        "outputId": "8289c3b3-ab90-40bf-eba8-4880c0a7cd8c",
        "vscode": {
          "languageId": "python"
        }
      },
      "outputs": [
        {
          "data": {
            "text/plain": [
              "['a', 'b', 'c']"
            ]
          },
          "execution_count": 127,
          "metadata": {
            "tags": []
          },
          "output_type": "execute_result"
        }
      ],
      "source": [
        "#the simplest way; we'll see more later\n",
        "letters = [\"a\", \"b\", \"c\"]\n",
        "letters\n"
      ]
    },
    {
      "cell_type": "markdown",
      "metadata": {
        "id": "Mm9iBBhBB9pL"
      },
      "source": [
        "Accessing items in lists"
      ]
    },
    {
      "cell_type": "code",
      "execution_count": null,
      "metadata": {
        "colab": {
          "base_uri": "https://localhost:8080/",
          "height": 34
        },
        "id": "7Ot1GJVFAqX_",
        "outputId": "dfe0af7e-b0ea-42b2-accc-c9bacfd4c954",
        "vscode": {
          "languageId": "python"
        }
      },
      "outputs": [
        {
          "data": {
            "text/plain": [
              "'d'"
            ]
          },
          "execution_count": 128,
          "metadata": {
            "tags": []
          },
          "output_type": "execute_result"
        }
      ],
      "source": [
        "letters = [\"a\", \"b\", \"c\", \"d\"]\n",
        "letters[0] # \"a\"\n",
        "letters[-1] # \"d\"\n"
      ]
    },
    {
      "cell_type": "markdown",
      "metadata": {
        "id": "0JvYr_DSCFFT"
      },
      "source": [
        "Slicing lists:\n",
        "* Notation: (start, end, increment)"
      ]
    },
    {
      "cell_type": "code",
      "execution_count": null,
      "metadata": {
        "colab": {
          "base_uri": "https://localhost:8080/",
          "height": 118
        },
        "id": "IDxL7C6AAsG2",
        "outputId": "b2bc6f71-a210-4abb-8071-be9c78e4b10d",
        "vscode": {
          "languageId": "python"
        }
      },
      "outputs": [
        {
          "name": "stdout",
          "output_type": "stream",
          "text": [
            "['a', 'b', 'c']\n",
            "['a', 'b', 'c']\n",
            "['a', 'b', 'c', 'd']\n",
            "['a', 'b', 'c', 'd']\n",
            "['a', 'c']\n",
            "['d', 'c', 'b', 'a']\n"
          ]
        }
      ],
      "source": [
        "print(letters[0:3]) # \"a\", \"b\", \"c\"\n",
        "print(letters[:3]) # \"a\", \"b\", \"c\"\n",
        "print(letters[0:]) # \"a\", \"b\", \"c\", \"d\"\n",
        "print(letters[:]) # \"a\", \"b\", \"c\", \"d\"\n",
        "print(letters[::2]) # \"a\", \"c\"\n",
        "print(letters[::-1]) # \"d\", \"c\", \"b\", \"a\""
      ]
    },
    {
      "cell_type": "code",
      "execution_count": null,
      "metadata": {
        "colab": {
          "base_uri": "https://localhost:8080/",
          "height": 50
        },
        "id": "AXqOFcM-Vz5i",
        "outputId": "96957ba4-0f3e-4cb1-edaa-8fd4fb12fdc2",
        "vscode": {
          "languageId": "python"
        }
      },
      "outputs": [
        {
          "name": "stdout",
          "output_type": "stream",
          "text": [
            "4\n",
            "['d', 'c', 'b', 'a']\n"
          ]
        }
      ],
      "source": [
        "print(len(letters))\n",
        "print(letters[-1:-5:-1])"
      ]
    },
    {
      "cell_type": "markdown",
      "metadata": {
        "id": "2cREaGMrCW63"
      },
      "source": [
        "Some other ways to create lists"
      ]
    },
    {
      "cell_type": "code",
      "execution_count": null,
      "metadata": {
        "colab": {
          "base_uri": "https://localhost:8080/",
          "height": 34
        },
        "id": "V7br4aLiA9F4",
        "outputId": "d44686e0-393d-415c-f1e2-0bcd7db19f6b",
        "vscode": {
          "languageId": "python"
        }
      },
      "outputs": [
        {
          "data": {
            "text/plain": [
              "[[0, 1, 3], [1, 2, 4]]"
            ]
          },
          "execution_count": 131,
          "metadata": {
            "tags": []
          },
          "output_type": "execute_result"
        }
      ],
      "source": [
        "matrix = [[0, 1,3], [1, 2,4]]\n",
        "matrix"
      ]
    },
    {
      "cell_type": "code",
      "execution_count": null,
      "metadata": {
        "colab": {
          "base_uri": "https://localhost:8080/",
          "height": 34
        },
        "id": "gQGuqR-9Ws6a",
        "outputId": "eef36134-a004-46f0-bbc4-d0f99e080c31",
        "vscode": {
          "languageId": "python"
        }
      },
      "outputs": [
        {
          "data": {
            "text/plain": [
              "(2, 3)"
            ]
          },
          "execution_count": 132,
          "metadata": {
            "tags": []
          },
          "output_type": "execute_result"
        }
      ],
      "source": [
        "import numpy\n",
        "numpy.shape(matrix)"
      ]
    },
    {
      "cell_type": "code",
      "execution_count": null,
      "metadata": {
        "colab": {
          "base_uri": "https://localhost:8080/",
          "height": 34
        },
        "id": "bsPKf8xSA89G",
        "outputId": "4a106675-684f-46c4-d5d8-298c77ed3f97",
        "vscode": {
          "languageId": "python"
        }
      },
      "outputs": [
        {
          "data": {
            "text/plain": [
              "[0, 0, 0, 0, 0]"
            ]
          },
          "execution_count": 133,
          "metadata": {
            "tags": []
          },
          "output_type": "execute_result"
        }
      ],
      "source": [
        "zeros = [0] * 5\n",
        "zeros"
      ]
    },
    {
      "cell_type": "code",
      "execution_count": null,
      "metadata": {
        "colab": {
          "base_uri": "https://localhost:8080/",
          "height": 34
        },
        "id": "LJMr9Z3TA8zy",
        "outputId": "d6c4c0dd-80aa-4b63-d755-1a1eff09a304",
        "vscode": {
          "languageId": "python"
        }
      },
      "outputs": [
        {
          "data": {
            "text/plain": [
              "[0, 0, 0, 0, 0, 'a', 'b', 'c', 'd']"
            ]
          },
          "execution_count": 134,
          "metadata": {
            "tags": []
          },
          "output_type": "execute_result"
        }
      ],
      "source": [
        "combined = zeros + letters\n",
        "combined"
      ]
    },
    {
      "cell_type": "code",
      "execution_count": null,
      "metadata": {
        "colab": {
          "base_uri": "https://localhost:8080/",
          "height": 34
        },
        "id": "B7p3CIl_BETu",
        "outputId": "528b6d90-cbcc-43b4-a23d-dd41c4f036a9",
        "vscode": {
          "languageId": "python"
        }
      },
      "outputs": [
        {
          "data": {
            "text/plain": [
              "[0, 1, 2, 3, 4, 5, 6, 7, 8, 9, 10, 11, 12, 13, 14, 15, 16, 17, 18, 19]"
            ]
          },
          "execution_count": 135,
          "metadata": {
            "tags": []
          },
          "output_type": "execute_result"
        }
      ],
      "source": [
        "numbers = list(range(20))\n",
        "numbers"
      ]
    },
    {
      "cell_type": "markdown",
      "metadata": {
        "id": "sOeof5BuX_hY"
      },
      "source": [
        "Adding items"
      ]
    },
    {
      "cell_type": "code",
      "execution_count": null,
      "metadata": {
        "colab": {
          "base_uri": "https://localhost:8080/",
          "height": 34
        },
        "id": "yEXduWFv9MDV",
        "outputId": "ac260cc8-ffd0-4cf4-b8e0-19eadef8b170",
        "vscode": {
          "languageId": "python"
        }
      },
      "outputs": [
        {
          "data": {
            "text/plain": [
              "['e', 'c', 'b', 'a']"
            ]
          },
          "execution_count": 136,
          "metadata": {
            "tags": []
          },
          "output_type": "execute_result"
        }
      ],
      "source": [
        "letters1 = [\"a\", \"b\", \"c\"]\n",
        "letters1.append(\"e\")\n",
        "letters1[::-1]\n"
      ]
    },
    {
      "cell_type": "code",
      "execution_count": null,
      "metadata": {
        "colab": {
          "base_uri": "https://localhost:8080/",
          "height": 34
        },
        "id": "bOXNvaHAXjAr",
        "outputId": "7107e8a2-a79a-415c-8d61-aeb7f340350e",
        "vscode": {
          "languageId": "python"
        }
      },
      "outputs": [
        {
          "data": {
            "text/plain": [
              "['a', 'b', 'c', 'e']"
            ]
          },
          "execution_count": 137,
          "metadata": {
            "tags": []
          },
          "output_type": "execute_result"
        }
      ],
      "source": [
        "letters1"
      ]
    },
    {
      "cell_type": "code",
      "execution_count": null,
      "metadata": {
        "id": "JGwHbWhjXDpR",
        "vscode": {
          "languageId": "python"
        }
      },
      "outputs": [],
      "source": [
        "letters1.insert(0, \"-\")"
      ]
    },
    {
      "cell_type": "code",
      "execution_count": null,
      "metadata": {
        "colab": {
          "base_uri": "https://localhost:8080/",
          "height": 34
        },
        "id": "ijIMFvGaX27d",
        "outputId": "8f849b38-baef-4e2e-b382-5f87e0c4b0cd",
        "vscode": {
          "languageId": "python"
        }
      },
      "outputs": [
        {
          "data": {
            "text/plain": [
              "['-', 'a', 'b', 'c', 'e']"
            ]
          },
          "execution_count": 139,
          "metadata": {
            "tags": []
          },
          "output_type": "execute_result"
        }
      ],
      "source": [
        "letters1"
      ]
    },
    {
      "cell_type": "markdown",
      "metadata": {
        "id": "Pkr_RYZdYCmA"
      },
      "source": [
        "Removing items"
      ]
    },
    {
      "cell_type": "code",
      "execution_count": null,
      "metadata": {
        "colab": {
          "base_uri": "https://localhost:8080/",
          "height": 34
        },
        "id": "98-wmq_w9y-q",
        "outputId": "5419c909-c74f-4601-ae5a-de3e01b1a18c",
        "vscode": {
          "languageId": "python"
        }
      },
      "outputs": [
        {
          "data": {
            "text/plain": [
              "'e'"
            ]
          },
          "execution_count": 140,
          "metadata": {
            "tags": []
          },
          "output_type": "execute_result"
        }
      ],
      "source": [
        "letters1.pop()\n"
      ]
    },
    {
      "cell_type": "code",
      "execution_count": null,
      "metadata": {
        "colab": {
          "base_uri": "https://localhost:8080/",
          "height": 34
        },
        "id": "73BbzDSxXrJu",
        "outputId": "c9da2046-d9e8-4e52-b4c3-2e0248439fbf",
        "vscode": {
          "languageId": "python"
        }
      },
      "outputs": [
        {
          "data": {
            "text/plain": [
              "'-'"
            ]
          },
          "execution_count": 141,
          "metadata": {
            "tags": []
          },
          "output_type": "execute_result"
        }
      ],
      "source": [
        "letters1.pop(0)\n",
        "\n"
      ]
    },
    {
      "cell_type": "code",
      "execution_count": null,
      "metadata": {
        "colab": {
          "base_uri": "https://localhost:8080/",
          "height": 34
        },
        "id": "5_uB3Wn-Xrxi",
        "outputId": "5edae2b4-7776-4f1a-c865-c49aff8ee42b",
        "vscode": {
          "languageId": "python"
        }
      },
      "outputs": [
        {
          "data": {
            "text/plain": [
              "['a', 'c']"
            ]
          },
          "execution_count": 142,
          "metadata": {
            "tags": []
          },
          "output_type": "execute_result"
        }
      ],
      "source": [
        "letters1.remove(\"b\")\n",
        "letters1"
      ]
    },
    {
      "cell_type": "code",
      "execution_count": null,
      "metadata": {
        "id": "CdCRRPH-XuXF",
        "vscode": {
          "languageId": "python"
        }
      },
      "outputs": [],
      "source": [
        "del letters1[0:3]"
      ]
    },
    {
      "cell_type": "markdown",
      "metadata": {
        "id": "4uAOzbSbYGDa"
      },
      "source": [
        "Finding items"
      ]
    },
    {
      "cell_type": "code",
      "execution_count": null,
      "metadata": {
        "colab": {
          "base_uri": "https://localhost:8080/",
          "height": 34
        },
        "id": "QucQkp1Y91eJ",
        "outputId": "64dc8198-568f-4ffa-f4d1-fa1803edf2df",
        "vscode": {
          "languageId": "python"
        }
      },
      "outputs": [
        {
          "name": "stdout",
          "output_type": "stream",
          "text": [
            "1\n"
          ]
        }
      ],
      "source": [
        "letters = [\"a\", \"b\", \"c\", \"d\"]\n",
        "if \"b\" in letters:\n",
        "  print(letters.index(\"b\"))\n"
      ]
    },
    {
      "cell_type": "code",
      "execution_count": null,
      "metadata": {
        "colab": {
          "base_uri": "https://localhost:8080/",
          "height": 84
        },
        "id": "TltQDZpZ9Grk",
        "outputId": "17abd13c-c695-4899-8e34-b122a4bac3f3",
        "vscode": {
          "languageId": "python"
        }
      },
      "outputs": [
        {
          "name": "stdout",
          "output_type": "stream",
          "text": [
            "a\n",
            "b\n",
            "c\n",
            "d\n"
          ]
        }
      ],
      "source": [
        "# Looping over lists\n",
        "for letter in letters:\n",
        "  print(letter)\n",
        "\n"
      ]
    },
    {
      "cell_type": "code",
      "execution_count": null,
      "metadata": {
        "colab": {
          "base_uri": "https://localhost:8080/",
          "height": 67
        },
        "id": "3OxhKUinsUPf",
        "outputId": "d757e94f-c90e-418c-c3b7-96ca6dff0924",
        "vscode": {
          "languageId": "python"
        }
      },
      "outputs": [
        {
          "name": "stdout",
          "output_type": "stream",
          "text": [
            "a\n",
            "b\n",
            "c d\n"
          ]
        }
      ],
      "source": [
        "# Unpacking\n",
        "first, second, *other = letters\n",
        "print(first)\n",
        "print(second)\n",
        "print(*other)"
      ]
    },
    {
      "cell_type": "markdown",
      "metadata": {
        "id": "OhW3CjQOsvFR"
      },
      "source": [
        "enumerate: returns an enumerate object. In our case that object is a list of tuples, each containing a pair of count/index and value."
      ]
    },
    {
      "cell_type": "code",
      "execution_count": null,
      "metadata": {
        "colab": {
          "base_uri": "https://localhost:8080/",
          "height": 84
        },
        "id": "tdnUyfTs9rko",
        "outputId": "73a162d6-2dde-408c-ba29-c7dcba965148",
        "vscode": {
          "languageId": "python"
        }
      },
      "outputs": [
        {
          "name": "stdout",
          "output_type": "stream",
          "text": [
            "0 a\n",
            "1 b\n",
            "2 c\n",
            "3 d\n"
          ]
        }
      ],
      "source": [
        "for index, letter in enumerate(letters):\n",
        "  print(index, end = \" \")\n",
        "  print(letter)"
      ]
    },
    {
      "cell_type": "code",
      "execution_count": null,
      "metadata": {
        "colab": {
          "base_uri": "https://localhost:8080/",
          "height": 34
        },
        "id": "_yimApWj98uX",
        "outputId": "5b9e6c42-6fe2-4695-cb2f-5c05d0128326",
        "vscode": {
          "languageId": "python"
        }
      },
      "outputs": [
        {
          "data": {
            "text/plain": [
              "['a', 'b', 'c', 'd']"
            ]
          },
          "execution_count": 148,
          "metadata": {
            "tags": []
          },
          "output_type": "execute_result"
        }
      ],
      "source": [
        "# Sorting lists in place. They do not return a new list.\n",
        "letters.sort()\n",
        "letters.sort(reverse=True)\n",
        "#returns a new list\n",
        "sorted(letters) \n"
      ]
    },
    {
      "cell_type": "code",
      "execution_count": null,
      "metadata": {
        "colab": {
          "base_uri": "https://localhost:8080/",
          "height": 67
        },
        "id": "hMg0vN2Mtngg",
        "outputId": "bdc403dc-4da6-4e8c-b7c6-43963255428b",
        "vscode": {
          "languageId": "python"
        }
      },
      "outputs": [
        {
          "name": "stdout",
          "output_type": "stream",
          "text": [
            "1\n",
            "ball\n",
            "3.3\n"
          ]
        }
      ],
      "source": [
        "#list with different data types.\n",
        "x = [1,\"ball\", 3.3]\n",
        "for i in x:\n",
        "  print(i)"
      ]
    },
    {
      "cell_type": "markdown",
      "metadata": {
        "id": "FkEbvW8I_xQ_"
      },
      "source": [
        "# Dictionaries\n",
        "--contain a key-value pair"
      ]
    },
    {
      "cell_type": "code",
      "execution_count": null,
      "metadata": {
        "colab": {
          "base_uri": "https://localhost:8080/",
          "height": 34
        },
        "id": "TieHkAr49P8K",
        "outputId": "a711c233-1d05-4965-e73d-0d6381258256",
        "vscode": {
          "languageId": "python"
        }
      },
      "outputs": [
        {
          "data": {
            "text/plain": [
              "{'x': 1, 'y': 2}"
            ]
          },
          "execution_count": 150,
          "metadata": {
            "tags": []
          },
          "output_type": "execute_result"
        }
      ],
      "source": [
        "point = {\"x\": 1, \"y\": 2}\n",
        "point\n"
      ]
    },
    {
      "cell_type": "code",
      "execution_count": null,
      "metadata": {
        "colab": {
          "base_uri": "https://localhost:8080/",
          "height": 34
        },
        "id": "dFVBOLnwEc_5",
        "outputId": "d6459810-034c-4434-b488-7ac9662ec830",
        "vscode": {
          "languageId": "python"
        }
      },
      "outputs": [
        {
          "data": {
            "text/plain": [
              "{'x': 1, 'y': 2, 'z': 3}"
            ]
          },
          "execution_count": 151,
          "metadata": {
            "tags": []
          },
          "output_type": "execute_result"
        }
      ],
      "source": [
        "point[\"z\"] = 3\n",
        "point\n"
      ]
    },
    {
      "cell_type": "code",
      "execution_count": null,
      "metadata": {
        "colab": {
          "base_uri": "https://localhost:8080/",
          "height": 34
        },
        "id": "GM8yYLFsEv9W",
        "outputId": "3300f5f5-a58c-4722-9b4d-37eca2ce1598",
        "vscode": {
          "languageId": "python"
        }
      },
      "outputs": [
        {
          "name": "stdout",
          "output_type": "stream",
          "text": [
            "not found\n"
          ]
        }
      ],
      "source": [
        "if \"a\" in point:\n",
        "  print(\"found\")\n",
        "else:\n",
        "  print(\"not found\")\n"
      ]
    },
    {
      "cell_type": "code",
      "execution_count": null,
      "metadata": {
        "id": "fXPjWeEJWf0E",
        "vscode": {
          "languageId": "python"
        }
      },
      "outputs": [],
      "source": [
        "del point[\"x\"]\n"
      ]
    },
    {
      "cell_type": "code",
      "execution_count": null,
      "metadata": {
        "colab": {
          "base_uri": "https://localhost:8080/",
          "height": 34
        },
        "id": "WfdLLndUWiQM",
        "outputId": "c6dbf3f5-85be-480e-c0fd-7a2b83dbef3b",
        "vscode": {
          "languageId": "python"
        }
      },
      "outputs": [
        {
          "data": {
            "text/plain": [
              "{'y': 2, 'z': 3}"
            ]
          },
          "execution_count": 154,
          "metadata": {
            "tags": []
          },
          "output_type": "execute_result"
        }
      ],
      "source": [
        "point"
      ]
    },
    {
      "cell_type": "code",
      "execution_count": null,
      "metadata": {
        "colab": {
          "base_uri": "https://localhost:8080/",
          "height": 50
        },
        "id": "q_D25nVdvwLs",
        "outputId": "0eb6e507-f657-4b42-e057-fa8e2d5a0ba8",
        "vscode": {
          "languageId": "python"
        }
      },
      "outputs": [
        {
          "name": "stdout",
          "output_type": "stream",
          "text": [
            "apple\n"
          ]
        },
        {
          "data": {
            "text/plain": [
              "{'a': 'apple', 'b': 'ball', 'c': 'cat', 'd': 'dog'}"
            ]
          },
          "execution_count": 155,
          "metadata": {
            "tags": []
          },
          "output_type": "execute_result"
        }
      ],
      "source": [
        "alphabets = {'a':'apple','b':'ball','c': 'cat'} #dictionary\n",
        "\n",
        "print(alphabets['a'])\n",
        "\n",
        "alphabets['d'] = 'dog' #adding to a dictionary  #if the key already exists, value will be overwritten\n",
        "\n",
        "alphabets"
      ]
    },
    {
      "cell_type": "markdown",
      "metadata": {
        "id": "wSh9mGRAwYTi"
      },
      "source": [
        "dict.items(): A view object that displays a list of a given dictionary’s (key, value) tuple pair."
      ]
    },
    {
      "cell_type": "code",
      "execution_count": null,
      "metadata": {
        "colab": {
          "base_uri": "https://localhost:8080/",
          "height": 50
        },
        "id": "Tp0UZKWbWQDn",
        "outputId": "e7aff3f4-f82f-414e-d149-aec3106700a1",
        "vscode": {
          "languageId": "python"
        }
      },
      "outputs": [
        {
          "name": "stdout",
          "output_type": "stream",
          "text": [
            "y 2\n",
            "z 3\n"
          ]
        }
      ],
      "source": [
        "for key, value in point.items():\n",
        "  print(key,value)"
      ]
    },
    {
      "cell_type": "code",
      "execution_count": null,
      "metadata": {
        "colab": {
          "base_uri": "https://localhost:8080/",
          "height": 34
        },
        "id": "wQyt-OpH-Hn3",
        "outputId": "33ee47e0-d7d3-4e4a-809b-50ea2c02c4a8",
        "vscode": {
          "languageId": "python"
        }
      },
      "outputs": [
        {
          "data": {
            "text/plain": [
              "[1, 2, 3, 4]"
            ]
          },
          "execution_count": 157,
          "metadata": {
            "tags": []
          },
          "output_type": "execute_result"
        }
      ],
      "source": [
        "x = {\"A\":[1,2,3,4],\"B\":2, \"C\":3}\n",
        "x[\"A\"]"
      ]
    },
    {
      "cell_type": "markdown",
      "metadata": {
        "id": "cnqhRHxANbzN"
      },
      "source": [
        "# Tuples\n",
        "\n",
        "Tuples cannot be updated; they are said to be immutable"
      ]
    },
    {
      "cell_type": "code",
      "execution_count": null,
      "metadata": {
        "colab": {
          "base_uri": "https://localhost:8080/",
          "height": 34
        },
        "id": "SBTp9Sek-M__",
        "outputId": "95d9cb92-ed54-424a-f4c9-8e1ccb34e31f",
        "vscode": {
          "languageId": "python"
        }
      },
      "outputs": [
        {
          "data": {
            "text/plain": [
              "1"
            ]
          },
          "execution_count": 158,
          "metadata": {
            "tags": []
          },
          "output_type": "execute_result"
        }
      ],
      "source": [
        "point = (1, 2, 3)\n",
        "\n",
        "point[0]\n",
        "\n",
        "#point[0] = 9"
      ]
    },
    {
      "cell_type": "code",
      "execution_count": null,
      "metadata": {
        "colab": {
          "base_uri": "https://localhost:8080/",
          "height": 34
        },
        "id": "W5q0sQW6NkTX",
        "outputId": "8e7ef3aa-a712-4323-83cb-45858e274ac3",
        "vscode": {
          "languageId": "python"
        }
      },
      "outputs": [
        {
          "data": {
            "text/plain": [
              "(1, 2)"
            ]
          },
          "execution_count": 159,
          "metadata": {
            "tags": []
          },
          "output_type": "execute_result"
        }
      ],
      "source": [
        "point[0:2] # (1, 2)"
      ]
    },
    {
      "cell_type": "code",
      "execution_count": null,
      "metadata": {
        "colab": {
          "base_uri": "https://localhost:8080/",
          "height": 50
        },
        "id": "PvY7Aiq3M13v",
        "outputId": "47ed41d8-2872-4ed9-8141-16d473c6736d",
        "vscode": {
          "languageId": "python"
        }
      },
      "outputs": [
        {
          "name": "stdout",
          "output_type": "stream",
          "text": [
            "x:1\n",
            "found\n"
          ]
        }
      ],
      "source": [
        "x, y, z = point\n",
        "print(\"x:\"+str(x))\n",
        "if 1 in point:\n",
        "  print(\"found\")"
      ]
    },
    {
      "cell_type": "code",
      "execution_count": null,
      "metadata": {
        "colab": {
          "base_uri": "https://localhost:8080/",
          "height": 34
        },
        "id": "JEExQrL9-ScM",
        "outputId": "33450b77-7dcc-40f6-89a4-a297325f2c8b",
        "vscode": {
          "languageId": "python"
        }
      },
      "outputs": [
        {
          "name": "stdout",
          "output_type": "stream",
          "text": [
            "11 10\n"
          ]
        }
      ],
      "source": [
        "# Swapping variables\n",
        "x = 10\n",
        "y = 11\n",
        "x, y = y, x\n",
        "print(x,y)"
      ]
    },
    {
      "cell_type": "markdown",
      "metadata": {
        "id": "UQc7Qs7QOsSL"
      },
      "source": [
        "# Sets\n",
        "\n",
        "You cannot access items in a set by referring to an index. Since sets are unordered, the items have no index. But you can loop through the set items using a **for** loop, or ask if a specified value is present in a set by using the **in** keyword.\n",
        "Remember: Sets are unordered."
      ]
    },
    {
      "cell_type": "code",
      "execution_count": null,
      "metadata": {
        "colab": {
          "base_uri": "https://localhost:8080/",
          "height": 34
        },
        "id": "4kvHYxuCP3hb",
        "outputId": "88e81061-c59c-44a1-818f-caa753bce48c",
        "vscode": {
          "languageId": "python"
        }
      },
      "outputs": [
        {
          "name": "stdout",
          "output_type": "stream",
          "text": [
            "{'e', 'u', 'o', 'a', 'i'}\n"
          ]
        }
      ],
      "source": [
        "vowels = {'a', 'e', 'i','i','i', 'o', 'u','u'} #set\n",
        "\n",
        "print(vowels)   #unordered and unique values"
      ]
    },
    {
      "cell_type": "code",
      "execution_count": null,
      "metadata": {
        "colab": {
          "base_uri": "https://localhost:8080/",
          "height": 34
        },
        "id": "Sblwfo1-Olaj",
        "outputId": "fd1cef5a-8527-43f0-af38-ecca78cba53f",
        "vscode": {
          "languageId": "python"
        }
      },
      "outputs": [
        {
          "data": {
            "text/plain": [
              "{1, 2, 3, 4, 5}"
            ]
          },
          "execution_count": 163,
          "metadata": {
            "tags": []
          },
          "output_type": "execute_result"
        }
      ],
      "source": [
        "first = {1, 2, 3, 4}\n",
        "second = {1, 5}\n",
        "\n",
        "first | second # {1, 2, 3, 4, 5}\n"
      ]
    },
    {
      "cell_type": "code",
      "execution_count": null,
      "metadata": {
        "colab": {
          "base_uri": "https://localhost:8080/",
          "height": 34
        },
        "id": "1FwAEg-CQLbC",
        "outputId": "92426512-6806-41ad-c15b-56f5251c0046",
        "vscode": {
          "languageId": "python"
        }
      },
      "outputs": [
        {
          "data": {
            "text/plain": [
              "{1}"
            ]
          },
          "execution_count": 164,
          "metadata": {
            "tags": []
          },
          "output_type": "execute_result"
        }
      ],
      "source": [
        "first & second # {1}\n"
      ]
    },
    {
      "cell_type": "code",
      "execution_count": null,
      "metadata": {
        "colab": {
          "base_uri": "https://localhost:8080/",
          "height": 34
        },
        "id": "BuyxpciYQMHY",
        "outputId": "ada1017c-0c1d-4a30-8eb0-5b63f8121cae",
        "vscode": {
          "languageId": "python"
        }
      },
      "outputs": [
        {
          "data": {
            "text/plain": [
              "{2, 3, 4}"
            ]
          },
          "execution_count": 165,
          "metadata": {
            "tags": []
          },
          "output_type": "execute_result"
        }
      ],
      "source": [
        "first - second # {2, 3, 4}\n"
      ]
    },
    {
      "cell_type": "code",
      "execution_count": null,
      "metadata": {
        "colab": {
          "base_uri": "https://localhost:8080/",
          "height": 34
        },
        "id": "VIoL3ws_QN_0",
        "outputId": "302b01bf-90af-484d-d46d-f1a0ebbe15a8",
        "vscode": {
          "languageId": "python"
        }
      },
      "outputs": [
        {
          "data": {
            "text/plain": [
              "{2, 3, 4, 5}"
            ]
          },
          "execution_count": 166,
          "metadata": {
            "tags": []
          },
          "output_type": "execute_result"
        }
      ],
      "source": [
        "first ^ second # {2, 3, 4, 5}\n"
      ]
    },
    {
      "cell_type": "code",
      "execution_count": null,
      "metadata": {
        "colab": {
          "base_uri": "https://localhost:8080/",
          "height": 34
        },
        "id": "UzSUgblVQfR_",
        "outputId": "e8d1f642-c5c7-4974-c56d-94ad4f8b5886",
        "vscode": {
          "languageId": "python"
        }
      },
      "outputs": [
        {
          "name": "stdout",
          "output_type": "stream",
          "text": [
            "\n"
          ]
        }
      ],
      "source": [
        "if 1 in first:\n",
        "  print()\n"
      ]
    },
    {
      "cell_type": "code",
      "execution_count": null,
      "metadata": {
        "id": "xSz6k4BPVgqF",
        "vscode": {
          "languageId": "python"
        }
      },
      "outputs": [],
      "source": []
    }
  ],
  "metadata": {
    "colab": {
      "collapsed_sections": [],
      "name": "CSE422_Sec7 Introduction to Python ",
      "provenance": []
    },
    "kernelspec": {
      "display_name": "Python 3",
      "name": "python3"
    }
  },
  "nbformat": 4,
  "nbformat_minor": 0
}
